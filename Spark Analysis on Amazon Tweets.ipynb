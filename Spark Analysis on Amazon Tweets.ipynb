{
 "cells": [
  {
   "cell_type": "markdown",
   "metadata": {},
   "source": [
    "Spark Analysis on 400K Amazon Tweets - Matthew Kondrak"
   ]
  },
  {
   "cell_type": "code",
   "execution_count": 1,
   "metadata": {},
   "outputs": [],
   "source": [
    "import pyspark\n",
    "from pyspark import SparkContext, SparkConf\n",
    "from pyspark.sql import functions\n",
    "import pyspark.sql.functions as func\n",
    "from pyspark.sql.types import DecimalType\n",
    "from pyspark.sql.functions import lit\n",
    "from pyspark.sql.functions import *"
   ]
  },
  {
   "cell_type": "code",
   "execution_count": 2,
   "metadata": {},
   "outputs": [
    {
     "name": "stderr",
     "output_type": "stream",
     "text": [
      "22/05/05 23:37:22 WARN Utils: Your hostname, Matthews-MacBook-Pro-3.local resolves to a loopback address: 127.0.0.1; using 192.168.68.57 instead (on interface en0)\n",
      "22/05/05 23:37:22 WARN Utils: Set SPARK_LOCAL_IP if you need to bind to another address\n",
      "Using Spark's default log4j profile: org/apache/spark/log4j-defaults.properties\n",
      "Setting default log level to \"WARN\".\n",
      "To adjust logging level use sc.setLogLevel(newLevel). For SparkR, use setLogLevel(newLevel).\n",
      "22/05/05 23:37:23 WARN NativeCodeLoader: Unable to load native-hadoop library for your platform... using builtin-java classes where applicable\n"
     ]
    }
   ],
   "source": [
    "from pyspark.sql import SparkSession\n",
    "spark=SparkSession.builder.appName('RDD').getOrCreate()\n",
    "spark.conf.set(\"spark.sql.execution.arrow.pyspark.enabled\", \"true\")"
   ]
  },
  {
   "cell_type": "markdown",
   "metadata": {},
   "source": [
    "Reading the data"
   ]
  },
  {
   "cell_type": "code",
   "execution_count": 3,
   "metadata": {},
   "outputs": [
    {
     "name": "stderr",
     "output_type": "stream",
     "text": [
      "                                                                                \r"
     ]
    },
    {
     "name": "stdout",
     "output_type": "stream",
     "text": [
      "Size of the Amazon Tweets Dataset: (413247, 25)\n"
     ]
    }
   ],
   "source": [
    "spark.read.option('header','true').csv('/Users/matthewkondrak/Desktop/Amazon_Tweets.csv',inferSchema=True)\n",
    "data_pyspark = spark.read.option('header','true').csv('/Users/matthewkondrak/Desktop/Amazon_Tweets.csv', inferSchema=True)\n",
    "\n",
    "#size of data\n",
    "print(\"Size of the Amazon Tweets Dataset:\",(data_pyspark.count(), len(data_pyspark.columns)))"
   ]
  },
  {
   "cell_type": "code",
   "execution_count": 4,
   "metadata": {},
   "outputs": [
    {
     "data": {
      "text/plain": [
       "['id_str',\n",
       " 'tweet_created_at',\n",
       " 'user_screen_name',\n",
       " 'user_id_str',\n",
       " 'user_statuses_count',\n",
       " 'user_favourites_count',\n",
       " 'user_protected',\n",
       " 'user_listed_count',\n",
       " 'user_following',\n",
       " 'user_description',\n",
       " 'user_location',\n",
       " 'user_verified',\n",
       " 'user_followers_count',\n",
       " 'user_friends_count',\n",
       " 'user_created_at',\n",
       " 'tweet_language',\n",
       " 'text_',\n",
       " 'favorite_count',\n",
       " 'favorited',\n",
       " 'in_reply_to_screen_name',\n",
       " 'in_reply_to_status_id_str',\n",
       " 'in_reply_to_user_id_str',\n",
       " 'retweet_count',\n",
       " 'retweeted',\n",
       " 'text']"
      ]
     },
     "execution_count": 4,
     "metadata": {},
     "output_type": "execute_result"
    }
   ],
   "source": [
    "data_pyspark.columns"
   ]
  },
  {
   "cell_type": "markdown",
   "metadata": {},
   "source": [
    "Using only important columns for this analysis"
   ]
  },
  {
   "cell_type": "code",
   "execution_count": 5,
   "metadata": {},
   "outputs": [
    {
     "name": "stdout",
     "output_type": "stream",
     "text": [
      "+--------------------+----------------+-----------+\n",
      "|    tweet_created_at|user_screen_name|user_id_str|\n",
      "+--------------------+----------------+-----------+\n",
      "|Tue Nov 01 01:57:...|     SeanEPanjab|  143515471|\n",
      "|Tue Nov 01 02:39:...|      AmazonHelp|   85741735|\n",
      "|Tue Nov 01 17:14:...|     SeanEPanjab|  143515471|\n",
      "|Tue Nov 01 17:15:...|     SeanEPanjab|  143515471|\n",
      "|Tue Nov 01 17:19:...|      AmazonHelp|   85741735|\n",
      "|Tue Nov 01 17:25:...|      AmazonHelp|   85741735|\n",
      "|Tue Nov 01 17:55:...|     SeanEPanjab|  143515471|\n",
      "|Tue Nov 01 17:55:...|     SeanEPanjab|  143515471|\n",
      "|Tue Nov 01 18:02:...|      AmazonHelp|   85741735|\n",
      "|Tue Nov 01 03:51:...|   aakashwangnoo|   71457972|\n",
      "|Tue Nov 01 03:59:...|      AmazonHelp|   85741735|\n",
      "|Tue Nov 01 11:00:...|   aakashwangnoo|   71457972|\n",
      "|Tue Nov 01 12:03:...|      AmazonHelp|   85741735|\n",
      "|Tue Nov 01 12:03:...|      AmazonHelp|   85741735|\n",
      "|Tue Nov 01 14:57:...|   aakashwangnoo|   71457972|\n",
      "|Tue Nov 01 16:38:...|      AmazonHelp|   85741735|\n",
      "|Tue Nov 01 19:27:...|   aakashwangnoo|   71457972|\n",
      "|Tue Nov 01 19:28:...|   aakashwangnoo|   71457972|\n",
      "|Tue Nov 01 19:38:...|   aakashwangnoo|   71457972|\n",
      "|Tue Nov 01 19:40:...|   aakashwangnoo|   71457972|\n",
      "+--------------------+----------------+-----------+\n",
      "only showing top 20 rows\n",
      "\n"
     ]
    }
   ],
   "source": [
    "data_pyspark.select('tweet_created_at', 'user_screen_name', 'user_id_str')\n",
    "data_pyspark1=data_pyspark.select('tweet_created_at', 'user_screen_name', 'user_id_str')\n",
    "data_pyspark1.show()"
   ]
  },
  {
   "cell_type": "markdown",
   "metadata": {},
   "source": [
    "Task 1:\n",
    "\n",
    "Finding the Twitter users that are active on twitter in the dataset. \n",
    "\n",
    "Only counting the users that have posted in the last 5 days\n",
    "\n",
    "Additionally, saving their \"user_screen_name\" and \"user_id_str\" in a dataframe \"daily_active_users\""
   ]
  },
  {
   "cell_type": "code",
   "execution_count": 6,
   "metadata": {},
   "outputs": [],
   "source": [
    "#fixing the tweet_created_at format to a more usable format for analysis\n",
    "\n",
    "a = split(data_pyspark1['tweet_created_at'], ' ')\n",
    "daily_active_users = data_pyspark1.withColumn('Month', a.getItem(1))\n",
    "daily_active_users = daily_active_users.withColumn('Date', a.getItem(2))\n",
    "daily_active_users = daily_active_users.withColumn('tweet_created_at', func.concat(func.col('Month'), func.lit(' '), func.col('Date')))\n",
    "\n",
    "#daily_active_users.select(\"tweet_created_at\").show()"
   ]
  },
  {
   "cell_type": "code",
   "execution_count": 7,
   "metadata": {},
   "outputs": [
    {
     "name": "stderr",
     "output_type": "stream",
     "text": [
      "[Stage 10:>                                                         (0 + 2) / 2]\r"
     ]
    },
    {
     "name": "stdout",
     "output_type": "stream",
     "text": [
      "+----------------+-----------------------+\n",
      "|user_screen_name|count(tweet_created_at)|\n",
      "+----------------+-----------------------+\n",
      "|  Green_JamesBee|                      6|\n",
      "|   That_Musician|                      5|\n",
      "| PritiYa80985097|                     10|\n",
      "|    Speechlesstx|                      5|\n",
      "|      nsvaluto74|                      5|\n",
      "|        RGengage|                      9|\n",
      "| sureshmuthrotil|                      6|\n",
      "|       Tushi_Joy|                      7|\n",
      "|   ajaygupta1974|                      5|\n",
      "|      lupitasahu|                      6|\n",
      "| SardarGurvinde2|                      5|\n",
      "| Rajeshk76856612|                      5|\n",
      "|        RISSHHII|                      5|\n",
      "|      vaibhav926|                      9|\n",
      "|    TaiKamiya101|                      5|\n",
      "|  dahnamchandler|                      8|\n",
      "|           opjha|                      5|\n",
      "|        amruthhr|                     13|\n",
      "|    boredgirl260|                      7|\n",
      "| Ronakjobanputr1|                      6|\n",
      "+----------------+-----------------------+\n",
      "only showing top 20 rows\n",
      "\n"
     ]
    },
    {
     "name": "stderr",
     "output_type": "stream",
     "text": [
      "                                                                                \r"
     ]
    }
   ],
   "source": [
    "#finding users with created posts in at least 5 days and counting\n",
    "daily_active_users1 = daily_active_users.groupBy(\"user_screen_name\").agg(func.countDistinct(\"tweet_created_at\"))\n",
    "daily_active_users2 = daily_active_users1.filter(\"count(DISTINCT tweet_created_at) >= 5\")\n",
    "daily_active_users2.show()"
   ]
  },
  {
   "cell_type": "code",
   "execution_count": 8,
   "metadata": {},
   "outputs": [],
   "source": [
    "#inner join\n",
    "daily_active_users3 = daily_active_users.join(daily_active_users2, [\"user_screen_name\"], \"inner\")\n",
    "new_daily_active_users = daily_active_users3.select(\"user_screen_name\", \"user_id_str\")\n",
    "new_daily_active_users = new_daily_active_users.withColumn(\"user_id_str\", new_daily_active_users.user_id_str.cast(DecimalType(18, 0)))"
   ]
  },
  {
   "cell_type": "code",
   "execution_count": 9,
   "metadata": {},
   "outputs": [
    {
     "name": "stderr",
     "output_type": "stream",
     "text": [
      "                                                                                \r"
     ]
    },
    {
     "name": "stdout",
     "output_type": "stream",
     "text": [
      "+----------------+-----------+\n",
      "|user_screen_name|user_id_str|\n",
      "+----------------+-----------+\n",
      "|      AmazonHelp|   85741735|\n",
      "|      AmazonHelp|   85741735|\n",
      "|      AmazonHelp|   85741735|\n",
      "|      AmazonHelp|   85741735|\n",
      "|      AmazonHelp|   85741735|\n",
      "|      AmazonHelp|   85741735|\n",
      "|      AmazonHelp|   85741735|\n",
      "|      AmazonHelp|   85741735|\n",
      "|      AmazonHelp|   85741735|\n",
      "|      AmazonHelp|   85741735|\n",
      "|      AmazonHelp|   85741735|\n",
      "|           False|       null|\n",
      "|      AmazonHelp|   85741735|\n",
      "|      AmazonHelp|   85741735|\n",
      "|           False|       null|\n",
      "|      AmazonHelp|   85741735|\n",
      "|      AmazonHelp|   85741735|\n",
      "|      AmazonHelp|   85741735|\n",
      "|           False|        157|\n",
      "|      AmazonHelp|   85741735|\n",
      "+----------------+-----------+\n",
      "only showing top 20 rows\n",
      "\n"
     ]
    },
    {
     "name": "stderr",
     "output_type": "stream",
     "text": [
      "                                                                                \r"
     ]
    },
    {
     "name": "stdout",
     "output_type": "stream",
     "text": [
      "Size of Daily Active Users: (199011, 2)\n"
     ]
    },
    {
     "name": "stderr",
     "output_type": "stream",
     "text": [
      "                                                                                \r"
     ]
    }
   ],
   "source": [
    "#showing all active users\n",
    "new_daily_active_users.show()\n",
    "print(\"Size of Daily Active Users:\",(new_daily_active_users.count(), len(new_daily_active_users.columns)))\n",
    "\n",
    "#saving to csv\n",
    "dailyactiveusers=new_daily_active_users.toPandas()\n",
    "dailyactiveusers.to_csv(r\"/Users/matthewkondrak/Desktop/daily_active_users.csv\")"
   ]
  },
  {
   "cell_type": "markdown",
   "metadata": {},
   "source": [
    "TASK 2: \n",
    "\n",
    "Conducting a sample A/B test on Twitter. \n",
    "\n",
    "Experiment.txt file includes \"user_id_str\", which are users that are selected as potential experiment targets. \n",
    "\n",
    "Goal: Creating a dataframe \"experiment_user\" to document the selected users and determine if they are active users"
   ]
  },
  {
   "cell_type": "code",
   "execution_count": 10,
   "metadata": {},
   "outputs": [
    {
     "name": "stdout",
     "output_type": "stream",
     "text": [
      "Size of Experiments.txt File: (5000, 1)\n"
     ]
    }
   ],
   "source": [
    "import pandas as pd\n",
    "experimenttxt = pd.read_csv(\"/Users/matthewkondrak/Desktop/experiment.txt\", sep=\",\", header=None)\n",
    "spark.conf.set(\"spark.sql.execution.arrow.pyspark.enabled\", \"true\")\n",
    "experiment_txt = spark.createDataFrame(experimenttxt)\n",
    "\n",
    "#Renaming column\n",
    "experiment_txt = experiment_txt.withColumnRenamed(\"0\", \"user_id_str\")\n",
    "\n",
    "print(\"Size of Experiments.txt File:\",(experiment_txt.count(), len(experiment_txt.columns)))"
   ]
  },
  {
   "cell_type": "code",
   "execution_count": 11,
   "metadata": {},
   "outputs": [],
   "source": [
    "#joining previous task\n",
    "experiment_txt1 = new_daily_active_users.join(experiment_txt, [\"user_id_str\"], \"outer\")"
   ]
  },
  {
   "cell_type": "code",
   "execution_count": 12,
   "metadata": {},
   "outputs": [
    {
     "name": "stderr",
     "output_type": "stream",
     "text": [
      "                                                                                \r"
     ]
    },
    {
     "name": "stdout",
     "output_type": "stream",
     "text": [
      "+-----------+--------------+\n",
      "|user_id_str|whether_active|\n",
      "+-----------+--------------+\n",
      "|         75|           yes|\n",
      "|        189|           yes|\n",
      "|        215|           yes|\n",
      "|        239|           yes|\n",
      "|        325|           yes|\n",
      "|        334|           yes|\n",
      "|   23068174|           yes|\n",
      "|   24038624|            no|\n",
      "|   25805398|            no|\n",
      "|   38289347|           yes|\n",
      "|   39395899|           yes|\n",
      "|   54311555|            no|\n",
      "|   71308901|            no|\n",
      "|   72342053|            no|\n",
      "|   84303818|            no|\n",
      "|  124404304|            no|\n",
      "|  153994363|            no|\n",
      "|  241391028|           yes|\n",
      "|  263063213|            no|\n",
      "|  293677963|           yes|\n",
      "+-----------+--------------+\n",
      "only showing top 20 rows\n",
      "\n"
     ]
    },
    {
     "name": "stderr",
     "output_type": "stream",
     "text": [
      "                                                                                \r"
     ]
    },
    {
     "name": "stdout",
     "output_type": "stream",
     "text": [
      "Size of Dataframe: (7035, 2)\n"
     ]
    },
    {
     "name": "stderr",
     "output_type": "stream",
     "text": [
      "                                                                                \r"
     ]
    }
   ],
   "source": [
    "#counting the number of times user_id_str and saving to new column \"whether_active\"\n",
    "counting = experiment_txt1.groupBy([\"user_id_str\"]).agg(func.count(func.lit(1)).alias('whether_active'))\n",
    "experimentuser = counting.withColumn(\"whether_active\",when(counting[\"whether_active\"] > 1, \"yes\").otherwise(\"no\"))\n",
    "experimentuser.show()\n",
    "print(\"Size of Dataframe:\",(experimentuser.count(), len(experimentuser.columns)))        \n",
    "\n",
    "new_experimentuser=experimentuser.toPandas()\n",
    "new_experimentuser.to_csv(r\"/Users/matthewkondrak/Desktop/experiment_user.csv\")"
   ]
  },
  {
   "cell_type": "code",
   "execution_count": 13,
   "metadata": {},
   "outputs": [
    {
     "name": "stderr",
     "output_type": "stream",
     "text": [
      "                                                                                \r"
     ]
    },
    {
     "name": "stdout",
     "output_type": "stream",
     "text": [
      "Percentage of Active Users: 26.21179815209666 %\n"
     ]
    }
   ],
   "source": [
    "#Calculating the percentage of active users\n",
    "\n",
    "active_count = experimentuser.filter(\"Whether_active == 'yes'\")\n",
    "active_count = active_count.count() \n",
    "overall = experimentuser.count()\n",
    "result = (active_count/overall) * 100\n",
    "print(\"Percentage of Active Users:\", result, \"%\")"
   ]
  },
  {
   "cell_type": "markdown",
   "metadata": {},
   "source": [
    "TASK 3\n",
    "\n",
    "Using new revised experiment target list with the \"final_experiment.csv\" file.\n",
    "\n",
    "In this file, several users were removed and a new column \"info\" has been added that includes whether the user is a female (F) or male (M). \n",
    "\n",
    "Goal: Joing the dataframes from Task 1 & 2 and saving the result in a \"final_experiment\" dataframe"
   ]
  },
  {
   "cell_type": "code",
   "execution_count": 14,
   "metadata": {},
   "outputs": [
    {
     "name": "stdout",
     "output_type": "stream",
     "text": [
      "+-------------+----+--------------+----------------+\n",
      "|  user_id_str|info|whether_active|user_screen_name|\n",
      "+-------------+----+--------------+----------------+\n",
      "|   6.236402E7|   F|          null|            null|\n",
      "|2.706101936E9|   M|          null|            null|\n",
      "|    5654472.0|   F|          null|            null|\n",
      "| 1.45579921E8|   F|          null|            null|\n",
      "|2.502172122E9|   M|          null|            null|\n",
      "| 2.43716471E8|   F|          null|            null|\n",
      "|2.610379644E9|   M|          null|            null|\n",
      "| 1.23138418E8|   M|          null|            null|\n",
      "| 2.57376764E8|   F|          null|            null|\n",
      "| 2.69145593E8|   M|          null|            null|\n",
      "| 3.70711133E8|   F|          null|            null|\n",
      "|1.510968974E9|   F|          null|            null|\n",
      "|3.526380922E9|   M|          null|            null|\n",
      "| 1.63413904E8|   F|          null|            null|\n",
      "|  1.6980347E7|   M|          null|            null|\n",
      "|1.209614366E9|   M|          null|            null|\n",
      "| 4.47433286E8|   F|          null|            null|\n",
      "|1.970607968E9|   M|          null|            null|\n",
      "|3.285473358E9|   F|          null|            null|\n",
      "|1.112166661E9|   F|          null|            null|\n",
      "+-------------+----+--------------+----------------+\n",
      "only showing top 20 rows\n",
      "\n",
      "Size of final_exierments file: (4500, 4)\n"
     ]
    }
   ],
   "source": [
    "#loading file in\n",
    "spark.read.option('header','true').csv('/Users/matthewkondrak/desktop/final_experiment.csv',inferSchema=True)\n",
    "final_exp = spark.read.option('header','true').csv('/Users/matthewkondrak/desktop/final_experiment.csv', inferSchema=True)\n",
    "final_exp.show()\n",
    "print(\"Size of final_exierments file:\",(final_exp.count(), len(final_exp.columns))) "
   ]
  },
  {
   "cell_type": "markdown",
   "metadata": {},
   "source": [
    "Joining all 3 tables"
   ]
  },
  {
   "cell_type": "code",
   "execution_count": 15,
   "metadata": {},
   "outputs": [
    {
     "name": "stderr",
     "output_type": "stream",
     "text": [
      "                                                                                \r"
     ]
    },
    {
     "name": "stdout",
     "output_type": "stream",
     "text": [
      "+-------------+----+--------------+----------------+\n",
      "|  user_id_str|info|whether_active|user_screen_name|\n",
      "+-------------+----+--------------+----------------+\n",
      "|   6.236402E7|   F|            no|       Not Found|\n",
      "|3.526380922E9|   M|            no|       Not Found|\n",
      "|3.285473358E9|   F|           yes|    iwritegarima|\n",
      "|3.285473358E9|   F|           yes|    iwritegarima|\n",
      "|3.285473358E9|   F|           yes|    iwritegarima|\n",
      "|3.285473358E9|   F|           yes|    iwritegarima|\n",
      "|3.285473358E9|   F|           yes|    iwritegarima|\n",
      "|3.285473358E9|   F|           yes|    iwritegarima|\n",
      "|3.285473358E9|   F|           yes|    iwritegarima|\n",
      "|3.285473358E9|   F|           yes|    iwritegarima|\n",
      "|3.285473358E9|   F|           yes|    iwritegarima|\n",
      "|3.285473358E9|   F|           yes|    iwritegarima|\n",
      "|3.285473358E9|   F|           yes|    iwritegarima|\n",
      "|3.285473358E9|   F|           yes|    iwritegarima|\n",
      "|3.285473358E9|   F|           yes|    iwritegarima|\n",
      "|3.285473358E9|   F|           yes|    iwritegarima|\n",
      "|3.285473358E9|   F|           yes|    iwritegarima|\n",
      "|3.285473358E9|   F|           yes|    iwritegarima|\n",
      "|3.285473358E9|   F|           yes|    iwritegarima|\n",
      "|3.285473358E9|   F|           yes|    iwritegarima|\n",
      "+-------------+----+--------------+----------------+\n",
      "only showing top 20 rows\n",
      "\n"
     ]
    },
    {
     "name": "stderr",
     "output_type": "stream",
     "text": [
      "                                                                                \r"
     ]
    },
    {
     "name": "stdout",
     "output_type": "stream",
     "text": [
      "Final Size of Dataframe: (6060, 4)\n"
     ]
    }
   ],
   "source": [
    "#dropping columns and joining\n",
    "final_exp = final_exp.drop(\"whether_active\",\"user_screen_name\")\n",
    "final_experiment = final_exp.join(experimentuser, [\"user_id_str\"],\"left\").join(new_daily_active_users, [\"user_id_str\"], \"left\")\n",
    "\n",
    "#blank user_screen_name are replaced with \"not Found\"\n",
    "final_experiment = final_experiment.withColumn('user_screen_name', when(final_experiment.user_screen_name.isNull(), \n",
    "lit('Not Found')).otherwise(final_experiment.user_screen_name))\n",
    "final_experiment.show()\n",
    "print(\"Final Size of Dataframe:\",(final_experiment.count(), len(final_experiment.columns))) "
   ]
  },
  {
   "cell_type": "code",
   "execution_count": 16,
   "metadata": {},
   "outputs": [
    {
     "name": "stderr",
     "output_type": "stream",
     "text": [
      "                                                                                \r"
     ]
    }
   ],
   "source": [
    "#Finally Exporting the result to a .csv file\n",
    "finalexperiment=final_experiment.toPandas()\n",
    "finalexperiment.to_csv(r\"/Users/matthewkondrak/Desktop/final_experiment2.csv\")"
   ]
  }
 ],
 "metadata": {
  "interpreter": {
   "hash": "b0fa6594d8f4cbf19f97940f81e996739fb7646882a419484c72d19e05852a7e"
  },
  "kernelspec": {
   "display_name": "Python 3.9.12 64-bit",
   "language": "python",
   "name": "python3"
  },
  "language_info": {
   "codemirror_mode": {
    "name": "ipython",
    "version": 3
   },
   "file_extension": ".py",
   "mimetype": "text/x-python",
   "name": "python",
   "nbconvert_exporter": "python",
   "pygments_lexer": "ipython3",
   "version": "3.9.12"
  },
  "orig_nbformat": 4
 },
 "nbformat": 4,
 "nbformat_minor": 2
}
